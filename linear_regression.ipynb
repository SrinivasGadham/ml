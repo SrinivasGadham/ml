{
 "cells": [
  {
   "cell_type": "code",
   "execution_count": 1,
   "id": "74d452c8",
   "metadata": {},
   "outputs": [
    {
     "name": "stdout",
     "output_type": "stream",
     "text": [
      "[[1]\n",
      " [2]\n",
      " [3]\n",
      " [4]\n",
      " [5]] [ 2  4  6  8 10]\n"
     ]
    }
   ],
   "source": [
    "import numpy as np\n",
    "from sklearn.linear_model import LinearRegression\n",
    "\n",
    "# Example data\n",
    "X = np.array([[1], [2], [3], [4], [5]])  # Input features\n",
    "y = np.array([2, 4, 6, 8, 10])\n",
    "print(X,y)"
   ]
  },
  {
   "cell_type": "code",
   "execution_count": 2,
   "id": "431c045a",
   "metadata": {},
   "outputs": [],
   "source": [
    "model = LinearRegression()\n",
    "model.fit(X, y)\n",
    "\n",
    "# Predict the output for new data\n",
    "X_new = np.array([[6], [7], [8]])  # New data"
   ]
  },
  {
   "cell_type": "code",
   "execution_count": 3,
   "id": "70ae0f2b",
   "metadata": {},
   "outputs": [
    {
     "name": "stdout",
     "output_type": "stream",
     "text": [
      "[12. 14. 16.]\n"
     ]
    }
   ],
   "source": [
    "y_pred = model.predict(X_new)\n",
    "print(y_pred)"
   ]
  },
  {
   "cell_type": "code",
   "execution_count": null,
   "id": "4a3dd81b",
   "metadata": {},
   "outputs": [],
   "source": []
  },
  {
   "cell_type": "code",
   "execution_count": null,
   "id": "6a6bc1ba",
   "metadata": {},
   "outputs": [],
   "source": []
  },
  {
   "cell_type": "code",
   "execution_count": null,
   "id": "65d72296",
   "metadata": {},
   "outputs": [],
   "source": [
    "import numpy as np\n",
    "from sklearn.linear_model import LinearRegression\n",
    "\n",
    "# Example data\n",
    "X = np.array([[1], [2], [3], [4], [5]])  # Input features\n",
    "y = np.array([2, 4, 6, 8, 10])  # Target variable\n",
    "\n",
    "# Create and fit the linear regression model\n",
    "model = LinearRegression()\n",
    "model.fit(X, y)\n",
    "\n",
    "# Predict the output for new data\n",
    "X_new = np.array([[6], [7], [8]])  # New data\n",
    "y_pred = model.predict(X_new)\n",
    "\n",
    "# Print the coefficients and intercept of the linear regression model\n",
    "print(\"Coefficients:\", model.coef_)\n",
    "print(\"Intercept:\", model.intercept_)\n",
    "print(\"\")\n",
    "\n",
    "# Print the predicted values for the new data\n",
    "print(\"Predicted values for new data:\")\n",
    "for i in range(len(X_new)):\n",
    "    print(\"Input:\", X_new[i][0], \"Predicted Output:\", y_pred[i])\n"
   ]
  }
 ],
 "metadata": {
  "kernelspec": {
   "display_name": "Python 3 (ipykernel)",
   "language": "python",
   "name": "python3"
  },
  "language_info": {
   "codemirror_mode": {
    "name": "ipython",
    "version": 3
   },
   "file_extension": ".py",
   "mimetype": "text/x-python",
   "name": "python",
   "nbconvert_exporter": "python",
   "pygments_lexer": "ipython3",
   "version": "3.10.6"
  }
 },
 "nbformat": 4,
 "nbformat_minor": 5
}
